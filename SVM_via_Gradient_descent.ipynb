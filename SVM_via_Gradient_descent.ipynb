{
 "cells": [
  {
   "cell_type": "code",
   "execution_count": 1,
   "metadata": {},
   "outputs": [],
   "source": [
    "import numpy as np\n",
    "import matplotlib.pyplot as plt\n",
    "from sklearn.utils import shuffle\n",
    "import timeit"
   ]
  },
  {
   "cell_type": "code",
   "execution_count": 2,
   "metadata": {},
   "outputs": [],
   "source": [
    "data_features = np.loadtxt('features.txt', delimiter = ',')\n",
    "data_target = np.loadtxt('target.txt')"
   ]
  },
  {
   "cell_type": "code",
   "execution_count": 3,
   "metadata": {},
   "outputs": [],
   "source": [
    "def cost_function(w,b,X,Y):\n",
    "    val=0\n",
    "    c=100\n",
    "    for i in range(len(X)):\n",
    "            val=val+max(0,1 - Y[i]*(np.dot(w,X[i])+b))\n",
    "            finalcost=c*val+ 0.5*(np.sum(np.square(w)))\n",
    "    return finalcost"
   ]
  },
  {
   "cell_type": "code",
   "execution_count": 4,
   "metadata": {},
   "outputs": [],
   "source": [
    "def batch_gradient_descent():\n",
    "    b = 0\n",
    "    eta = 0.0000003\n",
    "    epsilon = 0.25\n",
    "    c = 100\n",
    "    w = np.zeros((1,len(data_features[0])))\n",
    "    k=0\n",
    "    change_in_cost = 1\n",
    "    list_costs = []\n",
    "    list_costs.append(cost_function(w,b,data_features,data_target))\n",
    "    while(change_in_cost > epsilon):\n",
    "        val1=0\n",
    "        val2=0\n",
    "        for i in range(len(data_features)):\n",
    "            if data_target[i]*(np.dot(w,data_features[i])+ b) >= 1:\n",
    "                val1 += 0\n",
    "                val2 += 0\n",
    "            else :\n",
    "                val1 += -data_target[i]*data_features[i]\n",
    "                val2 += -data_target[i]\n",
    "        f_w = w + c*val1\n",
    "        f_b = c*val2\n",
    "        w = w - eta*f_w\n",
    "        b = b - eta*f_b\n",
    "        list_costs.append(cost_function(w,b,data_features,data_target))\n",
    "        k = k+1\n",
    "        change_in_cost = abs(list_costs[-2] - list_costs[-1])/list_costs[-2]*100 \n",
    "    return (k,list_costs)"
   ]
  },
  {
   "cell_type": "code",
   "execution_count": 5,
   "metadata": {},
   "outputs": [],
   "source": [
    "start = timeit.default_timer()\n",
    "k,list_costs = batch_gradient_descent()\n",
    "end = timeit.default_timer()"
   ]
  },
  {
   "cell_type": "code",
   "execution_count": 6,
   "metadata": {},
   "outputs": [
    {
     "name": "stdout",
     "output_type": "stream",
     "text": [
      "57\n"
     ]
    }
   ],
   "source": [
    "print(k)"
   ]
  },
  {
   "cell_type": "code",
   "execution_count": 7,
   "metadata": {},
   "outputs": [
    {
     "name": "stdout",
     "output_type": "stream",
     "text": [
      "total time taken for convergence for batch 21.755243539999995\n"
     ]
    }
   ],
   "source": [
    "print(\"total time taken for convergence for batch\",(end-start))"
   ]
  },
  {
   "cell_type": "code",
   "execution_count": 8,
   "metadata": {},
   "outputs": [],
   "source": [
    "x_axis_list=[i for i in range(1,59)]"
   ]
  },
  {
   "cell_type": "code",
   "execution_count": 9,
   "metadata": {},
   "outputs": [
    {
     "data": {
      "image/png": "[encoded data removed]",
      "text/plain": [
       "<Figure size 432x288 with 1 Axes>"
      ]
     },
     "metadata": {
      "needs_background": "light"
     },
     "output_type": "display_data"
    }
   ],
   "source": [
    "import matplotlib.pyplot as plt\n",
    "plt.plot(x_axis_list, list_costs) \n",
    "plt.xlabel('Number of iterations') \n",
    "plt.ylabel('Cost_function') \n",
    "plt.title('Batch_Gradient_Descent - Cost vs Iterations') \n",
    "plt.show() "
   ]
  },
  {
   "cell_type": "code",
   "execution_count": null,
   "metadata": {},
   "outputs": [],
   "source": []
  },
  {
   "cell_type": "code",
   "execution_count": null,
   "metadata": {},
   "outputs": [],
   "source": []
  },
  {
   "cell_type": "code",
   "execution_count": 10,
   "metadata": {},
   "outputs": [],
   "source": [
    "def mini_batch_gradient():\n",
    "    w = np.zeros((1,len(data_features[0])))\n",
    "    p,q = shuffle(data_features,data_target)\n",
    "    k,l,b = 0,0,0\n",
    "    num = len(data_features)\n",
    "    eta2 = 0.00001\n",
    "    epsilon2 = 0.01\n",
    "    b_size = 20\n",
    "    c = 100\n",
    "    list_costs2 = []\n",
    "    m=cost_function(w,b,data_features,data_target)\n",
    "    list_costs2.append(m)\n",
    "    change_in_cost2 = 1\n",
    "    while(change_in_cost2 > epsilon2):\n",
    "        oldcost = change_in_cost2\n",
    "        x = p[l*b_size: min(num, (l+1)*b_size)]\n",
    "        y = q[l*b_size: min(num, (l+1)*b_size)]\n",
    "        val1=0\n",
    "        val2=0\n",
    "        for i in range(len(x)):\n",
    "            if y[i]*(np.dot(w,x[i])+ b) >= 1:\n",
    "                val1 += 0\n",
    "                val2 += 0\n",
    "            else :\n",
    "                val1 += -y[i]*x[i]\n",
    "                val2 += -y[i]\n",
    "        f_w = w + c*val1\n",
    "        f_b = c*val2\n",
    "        w = w - eta2*f_w\n",
    "        b = b - eta2*f_b\n",
    "        n=cost_function(w,b,data_features,data_target)\n",
    "        list_costs2.append(n)\n",
    "        k = k+1\n",
    "        l = int((l+1)%((num+b_size - 1)/b_size))\n",
    "        cost_perm = abs(list_costs2[-2] - list_costs2[-1])/list_costs2[-2]*100\n",
    "        change_in_cost2 = (0.5*oldcost + 0.5*cost_perm)\n",
    "    return (k, list_costs2)"
   ]
  },
  {
   "cell_type": "code",
   "execution_count": 11,
   "metadata": {},
   "outputs": [],
   "source": [
    "start = timeit.default_timer()\n",
    "k2,list_costs2 = mini_batch_gradient()\n",
    "end = timeit.default_timer()"
   ]
  },
  {
   "cell_type": "code",
   "execution_count": 12,
   "metadata": {},
   "outputs": [
    {
     "data": {
      "text/plain": [
       "240"
      ]
     },
     "execution_count": 12,
     "metadata": {},
     "output_type": "execute_result"
    }
   ],
   "source": [
    "k2"
   ]
  },
  {
   "cell_type": "code",
   "execution_count": 13,
   "metadata": {},
   "outputs": [
    {
     "name": "stdout",
     "output_type": "stream",
     "text": [
      "total time taken for convergence for mini batch 63.863428144000004\n"
     ]
    }
   ],
   "source": [
    "print(\"total time taken for convergence for mini batch\",(end-start))"
   ]
  },
  {
   "cell_type": "code",
   "execution_count": 14,
   "metadata": {},
   "outputs": [],
   "source": [
    "x_axis_list2=[i for i in range(1,k2+2)]"
   ]
  },
  {
   "cell_type": "code",
   "execution_count": 15,
   "metadata": {},
   "outputs": [
    {
     "data": {
      "image/png": "[encoded data removed]",
      "text/plain": [
       "<Figure size 432x288 with 1 Axes>"
      ]
     },
     "metadata": {
      "needs_background": "light"
     },
     "output_type": "display_data"
    }
   ],
   "source": [
    "import matplotlib.pyplot as plt\n",
    "plt.plot(x_axis_list2, list_costs2) \n",
    "plt.xlabel('Number of iterations') \n",
    "plt.ylabel('Cost_function') \n",
    "plt.title('Mini_Batch_Gradient_Descent - Cost vs Iterations') \n",
    "plt.show() "
   ]
  },
  {
   "cell_type": "code",
   "execution_count": null,
   "metadata": {},
   "outputs": [],
   "source": []
  },
  {
   "cell_type": "code",
   "execution_count": null,
   "metadata": {},
   "outputs": [],
   "source": []
  },
  {
   "cell_type": "code",
   "execution_count": 16,
   "metadata": {},
   "outputs": [],
   "source": [
    "def stochastic_gradient_descent():\n",
    "    p,q = shuffle(data_features,data_target)\n",
    "    k,l,b = 0,0,0\n",
    "    num = len(data_features)\n",
    "    w = np.zeros((1,len(data_features[0])))\n",
    "    c = 100\n",
    "    eta3 = 0.0001\n",
    "    epsilon3 = 0.001\n",
    "    list_costs3 = []\n",
    "    m1=cost_function(w,b,data_features,data_target)\n",
    "    list_costs3.append(m1)\n",
    "    change_in_cost3 = 1\n",
    "    while(change_in_cost3 > epsilon3):\n",
    "        oldcost = change_in_cost3\n",
    "        x = p[l: min(num, (l+1))]\n",
    "        y = q[l: min(num, (l+1))]\n",
    "        val1=0\n",
    "        val2=0\n",
    "        for i in range(len(x)):\n",
    "            if y[i]*(np.dot(w,x[i])+ b) >= 1:\n",
    "                val1 += 0\n",
    "                val2 += 0\n",
    "            else :\n",
    "                val1 += -y[i]*x[i]\n",
    "                val2 += -y[i]\n",
    "        f_w = w + c*val1\n",
    "        f_b = c*val2\n",
    "        w = w - eta3*f_w\n",
    "        b = b - eta3*f_b\n",
    "        n1=cost_function(w,b,data_features,data_target)\n",
    "        list_costs3.append(n1)\n",
    "        k = k+1\n",
    "        #print(k)\n",
    "        l = int(l%num + 1)\n",
    "        costper = abs(list_costs3[-2] - list_costs3[-1])/list_costs3[-2]*100\n",
    "        change_in_cost3 = (0.5*oldcost + 0.5*costper)\n",
    "    return (k, list_costs3)"
   ]
  },
  {
   "cell_type": "code",
   "execution_count": 17,
   "metadata": {},
   "outputs": [],
   "source": [
    "start = timeit.default_timer()\n",
    "k3,list_costs3 = stochastic_gradient_descent()\n",
    "end = timeit.default_timer()"
   ]
  },
  {
   "cell_type": "code",
   "execution_count": 18,
   "metadata": {},
   "outputs": [
    {
     "data": {
      "text/plain": [
       "1119"
      ]
     },
     "execution_count": 18,
     "metadata": {},
     "output_type": "execute_result"
    }
   ],
   "source": [
    "k3"
   ]
  },
  {
   "cell_type": "code",
   "execution_count": 19,
   "metadata": {},
   "outputs": [
    {
     "name": "stdout",
     "output_type": "stream",
     "text": [
      "total time taken for convergence for stochastic 295.088436397\n"
     ]
    }
   ],
   "source": [
    "print(\"total time taken for convergence for stochastic\",(end-start))"
   ]
  },
  {
   "cell_type": "code",
   "execution_count": 20,
   "metadata": {},
   "outputs": [],
   "source": [
    "x_axis_list3=[i for i in range(1,k3+2)]"
   ]
  },
  {
   "cell_type": "code",
   "execution_count": 21,
   "metadata": {},
   "outputs": [
    {
     "data": {
      "image/png": "[encoded data removed]",
      "text/plain": [
       "<Figure size 432x288 with 1 Axes>"
      ]
     },
     "metadata": {
      "needs_background": "light"
     },
     "output_type": "display_data"
    }
   ],
   "source": [
    "plt.plot(x_axis_list3, list_costs3) \n",
    "plt.xlabel('Number of iterations') \n",
    "plt.ylabel('Cost_function') \n",
    "plt.title('Stochastic_Gradient_Descent - Cost vs Iterations') \n",
    "plt.show() "
   ]
  },
  {
   "cell_type": "code",
   "execution_count": null,
   "metadata": {},
   "outputs": [],
   "source": []
  },
  {
   "cell_type": "code",
   "execution_count": null,
   "metadata": {},
   "outputs": [],
   "source": []
  },
  {
   "cell_type": "code",
   "execution_count": null,
   "metadata": {},
   "outputs": [],
   "source": []
  }
 ],
 "metadata": {
  "kernelspec": {
   "display_name": "Python 3",
   "language": "python",
   "name": "python3"
  },
  "language_info": {
   "codemirror_mode": {
    "name": "ipython",
    "version": 3
   },
   "file_extension": ".py",
   "mimetype": "text/x-python",
   "name": "python",
   "nbconvert_exporter": "python",
   "pygments_lexer": "ipython3",
   "version": "3.7.3"
  }
 },
 "nbformat": 4,
 "nbformat_minor": 2
}
